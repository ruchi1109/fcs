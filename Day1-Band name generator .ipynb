{
 "cells": [
  {
   "cell_type": "code",
   "execution_count": 6,
   "id": "6791adaf-e4ea-4c6d-b16d-43a683c0608a",
   "metadata": {},
   "outputs": [
    {
     "name": "stdout",
     "output_type": "stream",
     "text": [
      "a 'single quote' inside a double qoute\n",
      "a \"double quote\" inside a single quote\n",
      "alternatively you can \"escape\" the quote\n"
     ]
    }
   ],
   "source": [
    "print(\"a 'single quote' inside a double qoute\")\n",
    "print('a \"double quote\" inside a single quote')\n",
    "print(\"alternatively you can \\\"escape\\\" the quote\")"
   ]
  },
  {
   "cell_type": "code",
   "execution_count": 1,
   "id": "b99e8ab6-4843-4063-b495-ffa877fb1cd5",
   "metadata": {},
   "outputs": [
    {
     "name": "stdout",
     "output_type": "stream",
     "text": [
      "string concatenation is done with \"+\" sign\n"
     ]
    }
   ],
   "source": [
    "print('string concatenation is done with \"+\" sign')"
   ]
  },
  {
   "cell_type": "code",
   "execution_count": 10,
   "id": "00b22b8e-caa2-4018-b941-cf6edc1c814d",
   "metadata": {},
   "outputs": [
    {
     "name": "stdout",
     "output_type": "stream",
     "text": [
      "String concatenation is done with sign\n"
     ]
    }
   ],
   "source": [
    "print('String concatenation is done with ' + 'sign')"
   ]
  },
  {
   "cell_type": "code",
   "execution_count": 2,
   "id": "73f9b69c-ce4b-4e6b-92a0-86bca539bb38",
   "metadata": {},
   "outputs": [
    {
     "name": "stdin",
     "output_type": "stream",
     "text": [
      "what is your name Ruchi\n"
     ]
    },
    {
     "data": {
      "text/plain": [
       "'Ruchi'"
      ]
     },
     "execution_count": 2,
     "metadata": {},
     "output_type": "execute_result"
    }
   ],
   "source": [
    "input('what is your name')\n"
   ]
  },
  {
   "cell_type": "code",
   "execution_count": 8,
   "id": "cdb80d7f-4b83-42a7-87bd-3400672f5a35",
   "metadata": {},
   "outputs": [
    {
     "name": "stdin",
     "output_type": "stream",
     "text": [
      "what is your name Ruchi\n"
     ]
    },
    {
     "name": "stdout",
     "output_type": "stream",
     "text": [
      "Hello Ruchi\n"
     ]
    }
   ],
   "source": [
    "print(\"Hello \"  + input(\"what is your name\"))"
   ]
  },
  {
   "cell_type": "code",
   "execution_count": 11,
   "id": "7416cf38-06b8-4509-9125-71a98e728ca5",
   "metadata": {},
   "outputs": [
    {
     "name": "stdin",
     "output_type": "stream",
     "text": [
      "what is your name Ruchi\n"
     ]
    },
    {
     "name": "stdout",
     "output_type": "stream",
     "text": [
      "Hello Ruchi!\n"
     ]
    }
   ],
   "source": [
    "print(\"Hello \"  + input(\"what is your name\") + \"!\")"
   ]
  },
  {
   "cell_type": "code",
   "execution_count": 12,
   "id": "390339f2-6477-467e-8d05-84ed0826026a",
   "metadata": {},
   "outputs": [
    {
     "name": "stdout",
     "output_type": "stream",
     "text": [
      "5\n"
     ]
    }
   ],
   "source": [
    "numofletters = len(\"Ruchi\")\n",
    "print(numofletters)"
   ]
  },
  {
   "cell_type": "code",
   "execution_count": 1,
   "id": "ef10df19-084b-43ed-8e9d-830bb05cb47f",
   "metadata": {},
   "outputs": [
    {
     "name": "stdin",
     "output_type": "stream",
     "text": [
      "least 3\n"
     ]
    },
    {
     "name": "stdout",
     "output_type": "stream",
     "text": [
      "1\n"
     ]
    }
   ],
   "source": [
    "print(len(input(\"least\")))"
   ]
  },
  {
   "cell_type": "code",
   "execution_count": 2,
   "id": "a656bf36-27b7-4276-a34d-5ec9afed4d4c",
   "metadata": {},
   "outputs": [
    {
     "name": "stdin",
     "output_type": "stream",
     "text": [
      " least\n"
     ]
    },
    {
     "name": "stdout",
     "output_type": "stream",
     "text": [
      "5\n"
     ]
    }
   ],
   "source": [
    "print(len(input()))"
   ]
  },
  {
   "cell_type": "code",
   "execution_count": 5,
   "id": "c3dabc8a-5fdf-4fc4-b80e-77feb831bee1",
   "metadata": {},
   "outputs": [
    {
     "ename": "SyntaxError",
     "evalue": "invalid syntax (2180740529.py, line 1)",
     "output_type": "error",
     "traceback": [
      "\u001b[0;36m  File \u001b[0;32m\"/tmp/ipykernel_272/2180740529.py\"\u001b[0;36m, line \u001b[0;32m1\u001b[0m\n\u001b[0;31m    print(input(\"what is your name\") + /n input(\"what is the name of your pet\"))\u001b[0m\n\u001b[0m                                       ^\u001b[0m\n\u001b[0;31mSyntaxError\u001b[0m\u001b[0;31m:\u001b[0m invalid syntax\n"
     ]
    }
   ],
   "source": [
    "print(input(\"what is your name\") + /n input(\"what is the name of your pet\"))"
   ]
  },
  {
   "cell_type": "code",
   "execution_count": 6,
   "id": "bdb891cd-514a-4d12-8005-1d82bb5d0c14",
   "metadata": {},
   "outputs": [
    {
     "ename": "SyntaxError",
     "evalue": "invalid syntax (3278041628.py, line 1)",
     "output_type": "error",
     "traceback": [
      "\u001b[0;36m  File \u001b[0;32m\"/tmp/ipykernel_272/3278041628.py\"\u001b[0;36m, line \u001b[0;32m1\u001b[0m\n\u001b[0;31m    print(input(\"what is your name\") + \"\\n\" input(\"what is the name of your pet\"))\u001b[0m\n\u001b[0m                                            ^\u001b[0m\n\u001b[0;31mSyntaxError\u001b[0m\u001b[0;31m:\u001b[0m invalid syntax\n"
     ]
    }
   ],
   "source": [
    "print(input(\"what is your name\") + \"\\n\" input(\"what is the name of your pet\"))"
   ]
  },
  {
   "cell_type": "code",
   "execution_count": 7,
   "id": "8dadf8d9-3492-412e-8348-3a933287acb6",
   "metadata": {},
   "outputs": [
    {
     "name": "stdin",
     "output_type": "stream",
     "text": [
      "what is your name ruchi\n",
      "what is the name of your pet buzo\n"
     ]
    },
    {
     "name": "stdout",
     "output_type": "stream",
     "text": [
      "ruchi\n",
      "buzo\n"
     ]
    }
   ],
   "source": [
    "print(input(\"what is your name\") + \"\\n\"  + input(\"what is the name of your pet\"))"
   ]
  },
  {
   "cell_type": "code",
   "execution_count": 9,
   "id": "9c253cea-d765-4523-9807-086558a35b8e",
   "metadata": {},
   "outputs": [
    {
     "name": "stdout",
     "output_type": "stream",
     "text": [
      "welcome to the band name generator\n"
     ]
    },
    {
     "name": "stdin",
     "output_type": "stream",
     "text": [
      "In which city you were born jaipur\n"
     ]
    },
    {
     "name": "stdout",
     "output_type": "stream",
     "text": [
      "jaipur\n"
     ]
    },
    {
     "name": "stdin",
     "output_type": "stream",
     "text": [
      "What is the name of your pet buzo\n"
     ]
    },
    {
     "name": "stdout",
     "output_type": "stream",
     "text": [
      "buzo\n"
     ]
    },
    {
     "ename": "TypeError",
     "evalue": "unsupported operand type(s) for +: 'NoneType' and 'NoneType'",
     "output_type": "error",
     "traceback": [
      "\u001b[0;31m---------------------------------------------------------------------------\u001b[0m",
      "\u001b[0;31mTypeError\u001b[0m                                 Traceback (most recent call last)",
      "\u001b[0;32m/tmp/ipykernel_272/2654066477.py\u001b[0m in \u001b[0;36m<module>\u001b[0;34m\u001b[0m\n\u001b[1;32m      6\u001b[0m \u001b[0mpet_name\u001b[0m \u001b[0;34m=\u001b[0m \u001b[0mprint\u001b[0m\u001b[0;34m(\u001b[0m\u001b[0minput\u001b[0m\u001b[0;34m(\u001b[0m\u001b[0;34m\"What is the name of your pet\"\u001b[0m\u001b[0;34m)\u001b[0m\u001b[0;34m)\u001b[0m\u001b[0;34m\u001b[0m\u001b[0;34m\u001b[0m\u001b[0m\n\u001b[1;32m      7\u001b[0m \u001b[0;31m#Combine the city name and pet name and give them the band name\u001b[0m\u001b[0;34m\u001b[0m\u001b[0;34m\u001b[0m\u001b[0;34m\u001b[0m\u001b[0m\n\u001b[0;32m----> 8\u001b[0;31m \u001b[0mBand_Name\u001b[0m \u001b[0;34m=\u001b[0m \u001b[0mprint\u001b[0m\u001b[0;34m(\u001b[0m\u001b[0mcity_name\u001b[0m \u001b[0;34m+\u001b[0m \u001b[0mpet_name\u001b[0m\u001b[0;34m)\u001b[0m\u001b[0;34m\u001b[0m\u001b[0;34m\u001b[0m\u001b[0m\n\u001b[0m",
      "\u001b[0;31mTypeError\u001b[0m: unsupported operand type(s) for +: 'NoneType' and 'NoneType'"
     ]
    }
   ],
   "source": [
    "#create a greeting for your program\n",
    "print(\"welcome to the band name generator\")\n",
    "# ask the user for the city they grew up in.\n",
    "city_name = print(input(\"In which city you were born\"))\n",
    "# Ask the user for the name of their pet\n",
    "pet_name = print(input(\"What is the name of your pet\"))\n",
    "#Combine the city name and pet name and give them the band name\n",
    "Band_Name = print(city_name + pet_name)"
   ]
  },
  {
   "cell_type": "code",
   "execution_count": 11,
   "id": "a219c126-75db-4545-970b-81df065bec12",
   "metadata": {},
   "outputs": [
    {
     "name": "stdout",
     "output_type": "stream",
     "text": [
      "welcome to the band name generator\n"
     ]
    },
    {
     "name": "stdin",
     "output_type": "stream",
     "text": [
      "In which city you were born jaipur\n"
     ]
    },
    {
     "name": "stdout",
     "output_type": "stream",
     "text": [
      "jaipur\n"
     ]
    },
    {
     "name": "stdin",
     "output_type": "stream",
     "text": [
      "What is the name of your pet buzo\n"
     ]
    },
    {
     "name": "stdout",
     "output_type": "stream",
     "text": [
      "buzo\n"
     ]
    },
    {
     "ename": "TypeError",
     "evalue": "unsupported operand type(s) for +: 'NoneType' and 'str'",
     "output_type": "error",
     "traceback": [
      "\u001b[0;31m---------------------------------------------------------------------------\u001b[0m",
      "\u001b[0;31mTypeError\u001b[0m                                 Traceback (most recent call last)",
      "\u001b[0;32m/tmp/ipykernel_272/2416090203.py\u001b[0m in \u001b[0;36m<module>\u001b[0;34m\u001b[0m\n\u001b[1;32m      6\u001b[0m \u001b[0mpet_name\u001b[0m \u001b[0;34m=\u001b[0m \u001b[0mprint\u001b[0m\u001b[0;34m(\u001b[0m\u001b[0minput\u001b[0m\u001b[0;34m(\u001b[0m\u001b[0;34m\"What is the name of your pet\"\u001b[0m\u001b[0;34m)\u001b[0m\u001b[0;34m)\u001b[0m\u001b[0;34m\u001b[0m\u001b[0;34m\u001b[0m\u001b[0m\n\u001b[1;32m      7\u001b[0m \u001b[0;31m#Combine the city name and pet name and give them the band name\u001b[0m\u001b[0;34m\u001b[0m\u001b[0;34m\u001b[0m\u001b[0;34m\u001b[0m\u001b[0m\n\u001b[0;32m----> 8\u001b[0;31m \u001b[0mBand_Name\u001b[0m \u001b[0;34m=\u001b[0m \u001b[0;34m(\u001b[0m\u001b[0mcity_name\u001b[0m\u001b[0;34m+\u001b[0m \u001b[0;34m\" \"\u001b[0m \u001b[0;34m+\u001b[0m\u001b[0mpet_name\u001b[0m\u001b[0;34m)\u001b[0m\u001b[0;34m\u001b[0m\u001b[0;34m\u001b[0m\u001b[0m\n\u001b[0m\u001b[1;32m      9\u001b[0m \u001b[0mprint\u001b[0m\u001b[0;34m(\u001b[0m\u001b[0mBand_Name\u001b[0m\u001b[0;34m)\u001b[0m\u001b[0;34m\u001b[0m\u001b[0;34m\u001b[0m\u001b[0m\n",
      "\u001b[0;31mTypeError\u001b[0m: unsupported operand type(s) for +: 'NoneType' and 'str'"
     ]
    }
   ],
   "source": [
    "#create a greeting for your program\n",
    "print(\"welcome to the band name generator\")\n",
    "# ask the user for the city they grew up in.\n",
    "city_name = print(input(\"In which city you were born\"))\n",
    "# Ask the user for the name of their pet\n",
    "pet_name = print(input(\"What is the name of your pet\"))\n",
    "#Combine the city name and pet name and give them the band name\n",
    "Band_Name = (city_name+ \" \" +pet_name)\n",
    "print(Band_Name)"
   ]
  },
  {
   "cell_type": "markdown",
   "id": "42c7ffdb-3117-4cfd-9e62-0a0abc16bbe9",
   "metadata": {},
   "source": [
    "It seems like you're trying to concatenate two strings, but you're encountering a TypeError. This is because the `print()` function in Python doesn't return a value, it just prints the value to the console. Therefore, when you're trying to assign the result of `print(input())` to a variable, you're actually assigning `None` to the variable, which is why you're getting a `NoneType` error when you try to concatenate the strings.\n"
   ]
  },
  {
   "cell_type": "code",
   "execution_count": 14,
   "id": "42188477-bca5-4212-b336-999baa8a9e2e",
   "metadata": {},
   "outputs": [
    {
     "name": "stdout",
     "output_type": "stream",
     "text": [
      "welcome to the band name generator\n"
     ]
    },
    {
     "name": "stdin",
     "output_type": "stream",
     "text": [
      "In which city you were born - jaipur\n",
      "What is the name of your pet - buzo\n"
     ]
    },
    {
     "name": "stdout",
     "output_type": "stream",
     "text": [
      "Your Band Name: jaipur buzo\n"
     ]
    }
   ],
   "source": [
    "#create a greeting for your program\n",
    "print(\"welcome to the band name generator\")\n",
    "# ask the user for the city they grew up in.\n",
    "city_name = (input(\"In which city you were born -\"))\n",
    "# Ask the user for the name of their pet\n",
    "pet_name = (input(\"What is the name of your pet -\"))\n",
    "#Combine the city name and pet name and give them the band name\n",
    "Band_Name = (city_name+ \" \" +pet_name)\n",
    "print(\"Your Band Name: \" + Band_Name)"
   ]
  },
  {
   "cell_type": "code",
   "execution_count": null,
   "id": "1da98794-90f8-4884-b1bb-db8904221971",
   "metadata": {},
   "outputs": [],
   "source": []
  }
 ],
 "metadata": {
  "kernelspec": {
   "display_name": "Python 3 (ipykernel)",
   "language": "python",
   "name": "python3"
  },
  "language_info": {
   "codemirror_mode": {
    "name": "ipython",
    "version": 3
   },
   "file_extension": ".py",
   "mimetype": "text/x-python",
   "name": "python",
   "nbconvert_exporter": "python",
   "pygments_lexer": "ipython3",
   "version": "3.8.12"
  }
 },
 "nbformat": 4,
 "nbformat_minor": 5
}
