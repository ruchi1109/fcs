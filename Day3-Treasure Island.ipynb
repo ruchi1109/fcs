{
 "cells": [
  {
   "cell_type": "code",
   "execution_count": 4,
   "id": "4cefde17-97a3-4da2-b08e-dadd2bd90bc0",
   "metadata": {},
   "outputs": [
    {
     "name": "stdin",
     "output_type": "stream",
     "text": [
      "What is the number 5\n"
     ]
    },
    {
     "name": "stdout",
     "output_type": "stream",
     "text": [
      "the number is odd\n"
     ]
    }
   ],
   "source": [
    "num = int(input(\"What is the number\"))\n",
    "if num % 2 == 0:\n",
    "    print(\"the number is even\")\n",
    "else:\n",
    "    print(\"the number is odd\")"
   ]
  },
  {
   "cell_type": "code",
   "execution_count": 9,
   "id": "b044189b-af6f-4fa5-9e54-091cf2e15da6",
   "metadata": {},
   "outputs": [
    {
     "name": "stdout",
     "output_type": "stream",
     "text": [
      "Welcome to the rollercoster\n"
     ]
    },
    {
     "name": "stdin",
     "output_type": "stream",
     "text": [
      "What is the height 140\n"
     ]
    },
    {
     "name": "stdout",
     "output_type": "stream",
     "text": [
      "You can ride the rollercoster\n"
     ]
    },
    {
     "name": "stdin",
     "output_type": "stream",
     "text": [
      "What is your age 12\n"
     ]
    },
    {
     "name": "stdout",
     "output_type": "stream",
     "text": [
      "Please pay $7\n"
     ]
    }
   ],
   "source": [
    "print(\"Welcome to the rollercoster\")\n",
    "height = float(input(\"What is the height\"))\n",
    "if height >= 120:\n",
    "    print(\"You can ride the rollercoster\")\n",
    "    age = int(input(\"What is your age\"))\n",
    "    if age < 12:\n",
    "        print(\"Please pay $5\")\n",
    "    elif age >= 12 and age < 18:\n",
    "         print(\"Please pay $7\")\n",
    "    else:\n",
    "        print(\"Please pay $12\")\n",
    "else:\n",
    "              print(\"sorry, you have to grow taller before you can ride rollercoster\")\n",
    "\n"
   ]
  },
  {
   "cell_type": "markdown",
   "id": "47c74c71-028c-47d4-ae4a-be33eb7ce013",
   "metadata": {},
   "source": [
    "Write a program that interprets the Body Mass Index (BMI) based on a user's weight and height.\n",
    "\n",
    "It should tell them the interpretation of their BMI based on the BMI value.\n",
    "\n",
    "Under 18.5 they are underweight\n",
    "Equal to or over 18.5 but below 25 they have a normal weight\n",
    "Equal to or over 25 but below 30 they are slightly overweight\n",
    "Equal to or over 30 but below 35 they are obese\n",
    "Equal to or over 35 they are clinically obese.\n"
   ]
  },
  {
   "cell_type": "code",
   "execution_count": 2,
   "id": "31c758cb-02d0-4556-b04f-3b7e0705cde8",
   "metadata": {},
   "outputs": [
    {
     "name": "stdout",
     "output_type": "stream",
     "text": [
      "Welcome to BMI Calculator\n"
     ]
    },
    {
     "name": "stdin",
     "output_type": "stream",
     "text": [
      "What is your height 1.55\n",
      "What is your weight in kg 76\n"
     ]
    },
    {
     "name": "stdout",
     "output_type": "stream",
     "text": [
      "Your BMI is 31.63371488033298, You are Obese\n"
     ]
    }
   ],
   "source": [
    "print(\"Welcome to BMI Calculator\")\n",
    "height = float(input(\"What is your height\"))\n",
    "weight = float(input(\"What is your weight in kg\"))\n",
    "BMI = weight/(height ** 2)\n",
    "if BMI < 18.5:\n",
    "    print(f'Your BMI is {BMI}, You are underwight')\n",
    "elif BMI >= 18.5 and BMI < 25:\n",
    "    print(f'Your BMI is {BMI}, You have a normal weight')\n",
    "elif BMI >= 25 and BMI < 30:\n",
    "    print(f'Your BMI is {BMI}, You are slightly overweight')\n",
    "elif BMI >= 30 and BMI < 35:\n",
    "    print(f'Your BMI is {BMI}, You are Obese')\n",
    "else:\n",
    "    print(\"You are clinically Obese\")"
   ]
  },
  {
   "cell_type": "markdown",
   "id": "cca7694b-2503-40b0-a9f4-9b3e3eb27dfa",
   "metadata": {},
   "source": [
    "Write a program that works out whether if a given year is a leap year. A normal year has 365 days, leap years have 366, with an extra day in February. \n",
    "This is how you work out whether if a particular year is a leap year.\n",
    "\n",
    "1.on every year that is divisible by 4 with no remainder\n",
    "\n",
    "2.except every year that is evenly divisible by 100 with no remainder\n",
    "\n",
    "3.unless the year is also divisible by 400 with no remainder\n",
    "\n"
   ]
  },
  {
   "cell_type": "code",
   "execution_count": 4,
   "id": "1f046c10-9f3a-4997-8c93-30f23a9d2c06",
   "metadata": {},
   "outputs": [
    {
     "name": "stdin",
     "output_type": "stream",
     "text": [
      "What is the year 2000\n"
     ]
    },
    {
     "name": "stdout",
     "output_type": "stream",
     "text": [
      "2000 is a leap year\n"
     ]
    }
   ],
   "source": [
    "Year = int(input(\"What is the year\"))\n",
    "if Year % 4 == 0:\n",
    "    if Year % 100 == 0:\n",
    "        if Year % 400 == 0:\n",
    "            print(f\"{Year} is a leap year\")\n",
    "        else:\n",
    "            print(f\"{Year} is not a leap year\")\n",
    "            \n",
    "                \n",
    "    \n",
    "    else:\n",
    "         print(f\"{Year} is a leap year\")\n",
    "                        \n",
    "            \n",
    "                        \n",
    "else:\n",
    "    print(f\"{Year} is not a leap year\")\n",
    "            \n",
    "                  \n",
    "        \n",
    "\n",
    "    "
   ]
  },
  {
   "cell_type": "markdown",
   "id": "fbdd87d4-5648-4dfe-b235-785243fe79b6",
   "metadata": {},
   "source": [
    "Based on a user's order, work out their final bill.\n",
    "\n",
    "Small pizza (S): $15\n",
    "\n",
    "Medium pizza (M): $20\n",
    "\n",
    "Large pizza (L): $25\n",
    "\n",
    "Add pepperoni for small pizza (Y or N): +$2\n",
    "\n",
    "Add pepperoni for medium or large pizza (Y or N): +$3\n",
    "\n",
    "Add extra cheese for any size pizza (Y or N): +$1"
   ]
  },
  {
   "cell_type": "code",
   "execution_count": 11,
   "id": "c075ea53-30ad-40c3-a9a6-897775e836c2",
   "metadata": {},
   "outputs": [
    {
     "name": "stdin",
     "output_type": "stream",
     "text": [
      "Which size of pizza do you want?, S,M or L S\n",
      "Do you want pepperoni? Y or N Y\n",
      "Do you want cheese for your pizza? Y or N Y\n"
     ]
    },
    {
     "name": "stdout",
     "output_type": "stream",
     "text": [
      "Your final bill is 18\n"
     ]
    }
   ],
   "source": [
    "S = 15\n",
    "M = 20\n",
    "L = 25\n",
    "size_pizza = input(\"Which size of pizza do you want?, S,M or L\")\n",
    "final_bill = 0\n",
    "if size_pizza == \"S\":\n",
    "    pepp_S_price = 2\n",
    "    pepp_S = input(\"Do you want pepperoni? Y or N\")\n",
    "    if pepp_S == \"Y\":\n",
    "        cheese_S = input(\"Do you want cheese for your pizza? Y or N\")\n",
    "        cheese_S_price = 1\n",
    "        if cheese_S == \"Y\":\n",
    "            final_bill = S + pepp_S_price + cheese_S_price\n",
    "        else:\n",
    "            final_bill = S + pepp_S_price\n",
    "    else:\n",
    "        final_bill = S\n",
    "elif size_pizza == \"M\":\n",
    "    pepp_M_price = 3\n",
    "    pepp_M = input(\"Do you want pepperoni? Y or N\")\n",
    "    if pepp_M == \"Y\":\n",
    "        cheese_M = input(\"Do you want cheese for your pizza? Y or N\")\n",
    "        cheese_M_price = 1\n",
    "        if cheese_M == \"Y\":\n",
    "            final_bill = M + pepp_M_price + cheese_M_price\n",
    "        else:\n",
    "            final_bill = M + pepp_M_price\n",
    "    else:\n",
    "        final_bill == M\n",
    "elif size_pizza == \"L\":\n",
    "    pepp_L_price = 3\n",
    "    pepp_L = input(\"Do you want pepperoni? Y or N\")\n",
    "    if pepp_L == \"Y\":\n",
    "        cheese_L = input(\"Do you want cheese for your pizza? Y or N\")\n",
    "        cheese_L_price = 1\n",
    "        if cheese_L == \"Y\":\n",
    "            final_bill = L + pepp_L_price + cheese_L_price\n",
    "        else:\n",
    "            final_bill = L + pepp_L_price\n",
    "    else:\n",
    "        final_bill = L\n",
    "print(\"Your final bill is\", final_bill)"
   ]
  },
  {
   "cell_type": "code",
   "execution_count": 14,
   "id": "8c445657-15e1-444f-8e8b-8bee5c9ff4a8",
   "metadata": {},
   "outputs": [
    {
     "name": "stdout",
     "output_type": "stream",
     "text": [
      "Thank you for choosing Python Pizza Delievery\n"
     ]
    },
    {
     "name": "stdin",
     "output_type": "stream",
     "text": [
      "what size pizza do you want: S,M or L S\n",
      "Do you want pepperoni?: Y or N Y\n",
      "Do you want cheese?: Y or N Y\n"
     ]
    },
    {
     "name": "stdout",
     "output_type": "stream",
     "text": [
      "the final price of pizza is:  18\n"
     ]
    }
   ],
   "source": [
    "# More efficient Approach\n",
    "\n",
    "print(\"Thank you for choosing Python Pizza Delievery\")\n",
    "size = input(\"what size pizza do you want: S,M or L\")\n",
    "add_pepperoni = input(\"Do you want pepperoni?: Y or N\")\n",
    "extra_chesse = input(\"Do you want cheese?: Y or N\")\n",
    "bill = 0\n",
    "if size == \"S\":\n",
    "    bill += 15\n",
    "elif size == \"M\":\n",
    "    bill += 20\n",
    "else:\n",
    "    bill += 25\n",
    "if add_pepperoni == \"Y\":\n",
    "    if size == \"S\":\n",
    "        bill += 2\n",
    "    else:\n",
    "        bill += 3\n",
    "if extra_chesse == \"Y\":\n",
    "    bill += 1\n",
    "    \n",
    "print(f\"the final price of pizza is: \" , bill)\n",
    "\n"
   ]
  },
  {
   "cell_type": "markdown",
   "id": "4e18ed23-8e7a-484d-8c92-0e5ba0e6ebe6",
   "metadata": {},
   "source": [
    "### You are going to write a program that tests the compatibility between two people.\n",
    "\n",
    "To work out the love score between two people:\n",
    "\n",
    "Take both people's names and check for the number of times the letters in the word TRUE occurs.\n",
    "\n",
    "Then check for the number of times the letters in the word LOVE occurs.\n",
    "\n",
    "Then combine these numbers to make a 2 digit number.\n",
    "\n",
    "For Love Scores less than 10 or greater than 90, the message should be:\n",
    "\n",
    "\"Your score is *x*, you go together like coke and mentos.\"\n",
    "For Love Scores between 40 and 50, the message should be:\n",
    "\n",
    "\"Your score is *y*, you are alright together.\"\n",
    "Otherwise, the message will just be their score. e.g.:\n",
    "\n",
    "\"Your score is *z*.\"\n",
    "e.g.\n",
    "\n",
    "name1 = \"Angela Yu\"\n",
    "name2 = \"Jack Bauer\"\n",
    "T occurs 0 times\n",
    "\n",
    "R occurs 1 time\n",
    "\n",
    "U occurs 2 times\n",
    "\n",
    "E occurs 2 times\n",
    "\n",
    "Total = 5\n",
    "\n",
    "L occurs 1 time\n",
    "\n",
    "O occurs 0 times\n",
    "\n",
    "V occurs 0 times\n",
    "\n",
    "E occurs 2 times\n",
    "\n",
    "Total = 3\n",
    "\n",
    "Love Score = 53\n",
    "\n",
    "Print: \"Your score is 53.\""
   ]
  },
  {
   "cell_type": "code",
   "execution_count": 5,
   "id": "6a8e355c-3960-41fa-913a-3f7c9266e3bf",
   "metadata": {},
   "outputs": [
    {
     "name": "stdin",
     "output_type": "stream",
     "text": [
      "what is the girl's name Jenifer Aniston\n",
      "what is the boy's name Brad Pitt\n"
     ]
    },
    {
     "name": "stdout",
     "output_type": "stream",
     "text": [
      "Your love score is 73\n"
     ]
    }
   ],
   "source": [
    "name1 = input(\"what is the girl's name\")\n",
    "name2 = input(\"what is the boy's name\")\n",
    "combined_name = name1 + name2\n",
    "lower_names = combined_name.lower()\n",
    "t = lower_names.count(\"t\")\n",
    "r = lower_names.count(\"r\")\n",
    "u = lower_names.count(\"u\")\n",
    "e = lower_names.count(\"e\")\n",
    "first_digit = t + r + u + e\n",
    "l = lower_names.count(\"l\")\n",
    "o = lower_names.count(\"o\")\n",
    "v = lower_names.count(\"v\")\n",
    "e = lower_names.count(\"e\")\n",
    "second_digit = l + o + v + e\n",
    "print(f\"Your love score is {first_digit}{second_digit}\")"
   ]
  },
  {
   "attachments": {
    "266bcec0-67d4-4348-843d-3a58eb5f2e2b.png": {
     "image/png": "[encoded data removed]"
    }
   },
   "cell_type": "markdown",
   "id": "7b61a0c6-d592-4312-afea-10424df596c8",
   "metadata": {},
   "source": [
    "![image.png](attachment:266bcec0-67d4-4348-843d-3a58eb5f2e2b.png)"
   ]
  },
  {
   "cell_type": "code",
   "execution_count": 11,
   "id": "237eeca6-a270-4ff1-971f-52cf79603c83",
   "metadata": {},
   "outputs": [
    {
     "name": "stdout",
     "output_type": "stream",
     "text": [
      "Welcome to Treasure Island.\n",
      "Your mission is to find the treasure.\n"
     ]
    },
    {
     "name": "stdin",
     "output_type": "stream",
     "text": [
      "Where do you want to go: Left or Right Left\n",
      "Do you want to swim or wait? Wait\n",
      "Which door do you wanna go?: Red, Blue or Yellow Yellow\n"
     ]
    },
    {
     "name": "stdout",
     "output_type": "stream",
     "text": [
      "You won the game\n"
     ]
    }
   ],
   "source": [
    "print(\"Welcome to Treasure Island.\") \n",
    "print(\"Your mission is to find the treasure.\")\n",
    "Left_or_right = input(\"Where do you want to go: Left or Right\").lower()\n",
    "if Left_or_right == \"left\":\n",
    "    swim_or_wait = input(\"Do you want to swim or wait?\").lower()\n",
    "    if swim_or_wait == \"wait\":\n",
    "        Which_door = input(\"Which door do you wanna go?: Red, Blue or Yellow\").lower()\n",
    "        if Which_door == \"yellow\":\n",
    "            print(\"You won the game\")\n",
    "        elif Which_door == \"red\":\n",
    "            print(\"Burned by fire. Game Over\")\n",
    "        elif Which_door == \"blue\":\n",
    "            print(\"Eaten by beasts. Game Over\")\n",
    "            \n",
    "    else:\n",
    "        print(\"Attacked by Trout.Game Over\")\n",
    "else:\n",
    "    print(\"Fall into a hole. Game Over\")\n"
   ]
  },
  {
   "cell_type": "code",
   "execution_count": null,
   "id": "6238d5bf-422b-4f1d-af11-9681195cbf96",
   "metadata": {},
   "outputs": [],
   "source": []
  }
 ],
 "metadata": {
  "kernelspec": {
   "display_name": "Python 3 (ipykernel)",
   "language": "python",
   "name": "python3"
  },
  "language_info": {
   "codemirror_mode": {
    "name": "ipython",
    "version": 3
   },
   "file_extension": ".py",
   "mimetype": "text/x-python",
   "name": "python",
   "nbconvert_exporter": "python",
   "pygments_lexer": "ipython3",
   "version": "3.8.12"
  }
 },
 "nbformat": 4,
 "nbformat_minor": 5
}
