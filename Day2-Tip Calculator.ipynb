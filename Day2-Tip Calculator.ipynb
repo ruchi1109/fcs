{
 "cells": [
  {
   "cell_type": "code",
   "execution_count": 1,
   "id": "4f6824ee-8398-416f-8dc8-f2cdeb437b59",
   "metadata": {},
   "outputs": [
    {
     "data": {
      "text/plain": [
       "'o'"
      ]
     },
     "execution_count": 1,
     "metadata": {},
     "output_type": "execute_result"
    }
   ],
   "source": [
    "\"Hello\"[4]"
   ]
  },
  {
   "cell_type": "code",
   "execution_count": 2,
   "id": "295c6ff6-bfa0-4e5d-8830-8030dc2e5be0",
   "metadata": {},
   "outputs": [
    {
     "ename": "TypeError",
     "evalue": "object of type 'int' has no len()",
     "output_type": "error",
     "traceback": [
      "\u001b[0;31m---------------------------------------------------------------------------\u001b[0m",
      "\u001b[0;31mTypeError\u001b[0m                                 Traceback (most recent call last)",
      "\u001b[0;32m/tmp/ipykernel_206/2808481150.py\u001b[0m in \u001b[0;36m<module>\u001b[0;34m\u001b[0m\n\u001b[0;32m----> 1\u001b[0;31m \u001b[0mlen\u001b[0m\u001b[0;34m(\u001b[0m\u001b[0;36m123456\u001b[0m\u001b[0;34m)\u001b[0m\u001b[0;34m\u001b[0m\u001b[0;34m\u001b[0m\u001b[0m\n\u001b[0m",
      "\u001b[0;31mTypeError\u001b[0m: object of type 'int' has no len()"
     ]
    }
   ],
   "source": [
    "len(123456)"
   ]
  },
  {
   "cell_type": "code",
   "execution_count": 3,
   "id": "a860d279-dfd8-427f-b50c-dce1d8bea72c",
   "metadata": {},
   "outputs": [
    {
     "name": "stdout",
     "output_type": "stream",
     "text": [
      "123345\n"
     ]
    }
   ],
   "source": [
    "print(\"123\" + \"345\")"
   ]
  },
  {
   "cell_type": "code",
   "execution_count": 4,
   "id": "4be65765-38a9-46df-aa1a-ebd3bb03f6b9",
   "metadata": {},
   "outputs": [
    {
     "data": {
      "text/plain": [
       "234"
      ]
     },
     "execution_count": 4,
     "metadata": {},
     "output_type": "execute_result"
    }
   ],
   "source": [
    "#Integer\n",
    "234"
   ]
  },
  {
   "cell_type": "code",
   "execution_count": 5,
   "id": "fd9e2591-5d5b-44a4-b0a6-fc5d9e7e4c67",
   "metadata": {},
   "outputs": [
    {
     "data": {
      "text/plain": [
       "579"
      ]
     },
     "execution_count": 5,
     "metadata": {},
     "output_type": "execute_result"
    }
   ],
   "source": [
    "234 + 345"
   ]
  },
  {
   "cell_type": "code",
   "execution_count": 6,
   "id": "1a06d002-e072-4ca8-8269-841ccdae571d",
   "metadata": {},
   "outputs": [
    {
     "data": {
      "text/plain": [
       "(123, 456, 789)"
      ]
     },
     "execution_count": 6,
     "metadata": {},
     "output_type": "execute_result"
    }
   ],
   "source": [
    "123,456,789"
   ]
  },
  {
   "cell_type": "code",
   "execution_count": 7,
   "id": "a4cc30c5-c019-4406-b011-01b335e1a63e",
   "metadata": {},
   "outputs": [
    {
     "data": {
      "text/plain": [
       "123456789"
      ]
     },
     "execution_count": 7,
     "metadata": {},
     "output_type": "execute_result"
    }
   ],
   "source": [
    "123_456_789"
   ]
  },
  {
   "cell_type": "code",
   "execution_count": 1,
   "id": "db5c1965-eacf-4b3b-ae84-7390e40b1320",
   "metadata": {},
   "outputs": [
    {
     "name": "stdin",
     "output_type": "stream",
     "text": [
      "What is your name ruchi\n"
     ]
    },
    {
     "ename": "TypeError",
     "evalue": "can only concatenate str (not \"int\") to str",
     "output_type": "error",
     "traceback": [
      "\u001b[0;31m---------------------------------------------------------------------------\u001b[0m",
      "\u001b[0;31mTypeError\u001b[0m                                 Traceback (most recent call last)",
      "\u001b[0;32m/tmp/ipykernel_227/1453618455.py\u001b[0m in \u001b[0;36m<module>\u001b[0;34m\u001b[0m\n\u001b[1;32m      1\u001b[0m \u001b[0mnum_char\u001b[0m \u001b[0;34m=\u001b[0m \u001b[0mlen\u001b[0m\u001b[0;34m(\u001b[0m\u001b[0minput\u001b[0m\u001b[0;34m(\u001b[0m\u001b[0;34m\"What is your name\"\u001b[0m\u001b[0;34m)\u001b[0m\u001b[0;34m)\u001b[0m\u001b[0;34m\u001b[0m\u001b[0;34m\u001b[0m\u001b[0m\n\u001b[0;32m----> 2\u001b[0;31m \u001b[0mprint\u001b[0m\u001b[0;34m(\u001b[0m\u001b[0;34m\"Your name has\"\u001b[0m \u001b[0;34m+\u001b[0m \u001b[0mnum_char\u001b[0m \u001b[0;34m+\u001b[0m \u001b[0;34m\"characters.\"\u001b[0m\u001b[0;34m)\u001b[0m\u001b[0;34m\u001b[0m\u001b[0;34m\u001b[0m\u001b[0m\n\u001b[0m\u001b[1;32m      3\u001b[0m \u001b[0;34m\u001b[0m\u001b[0m\n",
      "\u001b[0;31mTypeError\u001b[0m: can only concatenate str (not \"int\") to str"
     ]
    }
   ],
   "source": [
    "num_char = len(input(\"What is your name\"))\n",
    "print(\"Your name has\" + num_char + \"characters.\")\n",
    "\n"
   ]
  },
  {
   "cell_type": "code",
   "execution_count": 2,
   "id": "b9a68f79-7b77-4960-9cc1-e9d99bbbb057",
   "metadata": {},
   "outputs": [
    {
     "data": {
      "text/plain": [
       "int"
      ]
     },
     "execution_count": 2,
     "metadata": {},
     "output_type": "execute_result"
    }
   ],
   "source": [
    "type(num_char)"
   ]
  },
  {
   "cell_type": "code",
   "execution_count": 3,
   "id": "7703ce6c-10d7-4496-b6a3-d1385b606e9a",
   "metadata": {},
   "outputs": [],
   "source": [
    "new_num_char = str(num_char)"
   ]
  },
  {
   "cell_type": "markdown",
   "id": "4f2da2a6-263a-4bc5-a557-01855d67b30f",
   "metadata": {},
   "source": [
    "print(\"Your name has \" + new_num_char + \" characters.\")\n"
   ]
  },
  {
   "cell_type": "code",
   "execution_count": 1,
   "id": "ea9ad111-7e9e-4512-9e41-96de8c48d240",
   "metadata": {},
   "outputs": [
    {
     "ename": "TypeError",
     "evalue": "'int' object is not subscriptable",
     "output_type": "error",
     "traceback": [
      "\u001b[0;31m---------------------------------------------------------------------------\u001b[0m",
      "\u001b[0;31mTypeError\u001b[0m                                 Traceback (most recent call last)",
      "\u001b[0;32m/tmp/ipykernel_232/510809773.py\u001b[0m in \u001b[0;36m<module>\u001b[0;34m\u001b[0m\n\u001b[1;32m      1\u001b[0m \u001b[0;31m#Write a program that adds the digits in a 2 digit number. e.g. if the input was 35, then the output should be 3 + 5 = 8\u001b[0m\u001b[0;34m\u001b[0m\u001b[0;34m\u001b[0m\u001b[0;34m\u001b[0m\u001b[0m\n\u001b[1;32m      2\u001b[0m \u001b[0mtwo_digit_number\u001b[0m \u001b[0;34m=\u001b[0m \u001b[0mint\u001b[0m\u001b[0;34m(\u001b[0m\u001b[0;34m)\u001b[0m\u001b[0;34m\u001b[0m\u001b[0;34m\u001b[0m\u001b[0m\n\u001b[0;32m----> 3\u001b[0;31m \u001b[0mfirst_digit\u001b[0m \u001b[0;34m=\u001b[0m \u001b[0mint\u001b[0m\u001b[0;34m(\u001b[0m\u001b[0mtwo_digit_number\u001b[0m\u001b[0;34m[\u001b[0m\u001b[0;36m0\u001b[0m\u001b[0;34m]\u001b[0m\u001b[0;34m)\u001b[0m\u001b[0;34m\u001b[0m\u001b[0;34m\u001b[0m\u001b[0m\n\u001b[0m\u001b[1;32m      4\u001b[0m \u001b[0msecond_digit\u001b[0m \u001b[0;34m=\u001b[0m \u001b[0mint\u001b[0m\u001b[0;34m(\u001b[0m\u001b[0mtwo_digit_number\u001b[0m\u001b[0;34m[\u001b[0m\u001b[0;36m1\u001b[0m\u001b[0;34m]\u001b[0m\u001b[0;34m)\u001b[0m\u001b[0;34m\u001b[0m\u001b[0;34m\u001b[0m\u001b[0m\n\u001b[1;32m      5\u001b[0m \u001b[0mtwo_digit_number\u001b[0m \u001b[0;34m=\u001b[0m \u001b[0mfirst_digit\u001b[0m \u001b[0;34m+\u001b[0m \u001b[0msecond_digit\u001b[0m\u001b[0;34m\u001b[0m\u001b[0;34m\u001b[0m\u001b[0m\n",
      "\u001b[0;31mTypeError\u001b[0m: 'int' object is not subscriptable"
     ]
    }
   ],
   "source": [
    "#Write a program that adds the digits in a 2 digit number. e.g. if the input was 35, then the output should be 3 + 5 = 8\n",
    "two_digit_number = int()\n",
    "first_digit = int(two_digit_number[0])\n",
    "second_digit = int(two_digit_number[1])\n",
    "two_digit_number = first_digit + second_digit\n",
    "print(two_digit_number)\n"
   ]
  },
  {
   "cell_type": "markdown",
   "id": "2a845e37-e535-4a9c-b380-8cdf8dde930a",
   "metadata": {},
   "source": [
    "It seems like you're trying to access the digits of an integer as if it were a string or a list. In Python, you can't directly index an integer. However, you can convert the integer to a string first, then access the digits. Here's how you can modify your code:\n"
   ]
  },
  {
   "cell_type": "code",
   "execution_count": 4,
   "id": "41d7b576-cfba-411f-bb44-89ef5e845139",
   "metadata": {},
   "outputs": [
    {
     "name": "stdin",
     "output_type": "stream",
     "text": [
      "Enter a two digit number:  35\n"
     ]
    },
    {
     "name": "stdout",
     "output_type": "stream",
     "text": [
      "The sum of digits is:  8\n"
     ]
    }
   ],
   "source": [
    "two_digit_number = input(\"Enter a two digit number: \" )\n",
    "first_digit = int(two_digit_number[0])\n",
    "second_digit = int(two_digit_number[1])\n",
    "sum_of_digits = first_digit + second_digit\n",
    "print(\"The sum of digits is: \" , sum_of_digits)"
   ]
  },
  {
   "cell_type": "markdown",
   "id": "ae25b2a1-2cc2-45de-8a91-ef7b35ef98e9",
   "metadata": {},
   "source": [
    "Write a program that calculates the Body Mass Index (BMI) from a user's weight and height.\n",
    "The BMI is a measure of someone's weight taking into account their height. e.g. If a tall person and a short person both weigh the same amount, the short person is usually more overweight.\n",
    "\n",
    "The BMI is calculated by dividing a person's weight (in kg) by the square of their height (in m):\n",
    "\n",
    "\n",
    "\n"
   ]
  },
  {
   "cell_type": "code",
   "execution_count": 9,
   "id": "c48064a9-e302-4167-85ae-13db1c30b347",
   "metadata": {},
   "outputs": [
    {
     "name": "stdin",
     "output_type": "stream",
     "text": [
      "What is the height: 5\n",
      "What is the weight: 67\n"
     ]
    },
    {
     "name": "stdout",
     "output_type": "stream",
     "text": [
      "2\n"
     ]
    }
   ],
   "source": [
    "height = input(\"What is the height:\")\n",
    "weight = input(\"What is the weight:\")\n",
    "weight_as_int = int(weight)\n",
    "height_as_float = float(height)\n",
    "BMI = weight_as_int/ height_as_float ** 2\n",
    "BMI_as_int = int(BMI)\n",
    "print(BMI_as_int)"
   ]
  },
  {
   "cell_type": "code",
   "execution_count": 12,
   "id": "f3db52f1-5a5f-4b66-af0d-de8ac5633ead",
   "metadata": {},
   "outputs": [
    {
     "name": "stdout",
     "output_type": "stream",
     "text": [
      "2.67\n"
     ]
    }
   ],
   "source": [
    "print(round(8/3, 2))"
   ]
  },
  {
   "cell_type": "code",
   "execution_count": 14,
   "id": "d0632906-538c-4758-8092-cd023103cef5",
   "metadata": {},
   "outputs": [
    {
     "name": "stdout",
     "output_type": "stream",
     "text": [
      "1\n"
     ]
    }
   ],
   "source": [
    "score = 0\n",
    "score += 1\n",
    "print(score)\n"
   ]
  },
  {
   "cell_type": "code",
   "execution_count": 16,
   "id": "ff91a7aa-1305-458b-bd73-f2ad2b09ce1a",
   "metadata": {},
   "outputs": [
    {
     "name": "stdout",
     "output_type": "stream",
     "text": [
      "-1\n"
     ]
    }
   ],
   "source": [
    "score = 0\n",
    "score -= 1\n",
    "print(score)"
   ]
  },
  {
   "cell_type": "code",
   "execution_count": 17,
   "id": "bed6190e-581c-4d6c-a30d-a4c39d316404",
   "metadata": {},
   "outputs": [
    {
     "name": "stdout",
     "output_type": "stream",
     "text": [
      "0\n"
     ]
    }
   ],
   "source": [
    "score = 0\n",
    "score *= 1\n",
    "print(score)"
   ]
  },
  {
   "cell_type": "code",
   "execution_count": 18,
   "id": "0b687cf9-ea9a-4e54-a23b-f839cb1f6125",
   "metadata": {},
   "outputs": [
    {
     "ename": "ZeroDivisionError",
     "evalue": "division by zero",
     "output_type": "error",
     "traceback": [
      "\u001b[0;31m---------------------------------------------------------------------------\u001b[0m",
      "\u001b[0;31mZeroDivisionError\u001b[0m                         Traceback (most recent call last)",
      "\u001b[0;32m/tmp/ipykernel_232/2593132321.py\u001b[0m in \u001b[0;36m<module>\u001b[0;34m\u001b[0m\n\u001b[1;32m      1\u001b[0m \u001b[0mscore\u001b[0m \u001b[0;34m=\u001b[0m \u001b[0;36m0\u001b[0m\u001b[0;34m\u001b[0m\u001b[0;34m\u001b[0m\u001b[0m\n\u001b[0;32m----> 2\u001b[0;31m \u001b[0mscore\u001b[0m \u001b[0;34m/=\u001b[0m \u001b[0;36m0\u001b[0m\u001b[0;34m\u001b[0m\u001b[0;34m\u001b[0m\u001b[0m\n\u001b[0m\u001b[1;32m      3\u001b[0m \u001b[0mprint\u001b[0m\u001b[0;34m(\u001b[0m\u001b[0mscore\u001b[0m\u001b[0;34m)\u001b[0m\u001b[0;34m\u001b[0m\u001b[0;34m\u001b[0m\u001b[0m\n",
      "\u001b[0;31mZeroDivisionError\u001b[0m: division by zero"
     ]
    }
   ],
   "source": [
    "score = 0\n",
    "score /= 0\n",
    "print(score)"
   ]
  },
  {
   "cell_type": "code",
   "execution_count": 27,
   "id": "7ffbad9c-5679-4ac3-9021-809f51479a0b",
   "metadata": {},
   "outputs": [
    {
     "name": "stdout",
     "output_type": "stream",
     "text": [
      "33.6\n"
     ]
    }
   ],
   "source": [
    "#Tip Calculator\n",
    "#If the bill was $150.00, split between 5 people with 12% tip.\n",
    "bill = 150.00\n",
    "Tip = 12/100\n",
    "bill_with_tip = bill + (bill*Tip)\n",
    "bill_paid_by_each_person = (bill_with_tip/5)\n",
    "print(bill_paid_by_each_person)"
   ]
  },
  {
   "cell_type": "code",
   "execution_count": 28,
   "id": "5b47cac0-4c49-41a5-b0fe-204032c1d8b4",
   "metadata": {},
   "outputs": [
    {
     "name": "stdout",
     "output_type": "stream",
     "text": [
      "Welcome to the Tip Calculator\n"
     ]
    },
    {
     "name": "stdin",
     "output_type": "stream",
     "text": [
      "What is your bill amount 150\n",
      "What is your tip percentage 12\n"
     ]
    },
    {
     "ename": "TypeError",
     "evalue": "unsupported operand type(s) for /: 'str' and 'int'",
     "output_type": "error",
     "traceback": [
      "\u001b[0;31m---------------------------------------------------------------------------\u001b[0m",
      "\u001b[0;31mTypeError\u001b[0m                                 Traceback (most recent call last)",
      "\u001b[0;32m/tmp/ipykernel_232/3486523826.py\u001b[0m in \u001b[0;36m<module>\u001b[0;34m\u001b[0m\n\u001b[1;32m      2\u001b[0m \u001b[0mBill\u001b[0m \u001b[0;34m=\u001b[0m \u001b[0minput\u001b[0m\u001b[0;34m(\u001b[0m\u001b[0;34m\"What is your bill amount\"\u001b[0m\u001b[0;34m)\u001b[0m\u001b[0;34m\u001b[0m\u001b[0;34m\u001b[0m\u001b[0m\n\u001b[1;32m      3\u001b[0m \u001b[0mTip_percentage\u001b[0m \u001b[0;34m=\u001b[0m \u001b[0minput\u001b[0m\u001b[0;34m(\u001b[0m\u001b[0;34m\"What is your tip percentage\"\u001b[0m\u001b[0;34m)\u001b[0m\u001b[0;34m\u001b[0m\u001b[0;34m\u001b[0m\u001b[0m\n\u001b[0;32m----> 4\u001b[0;31m \u001b[0mBill_to_be_paid\u001b[0m \u001b[0;34m=\u001b[0m \u001b[0mBill\u001b[0m \u001b[0;34m+\u001b[0m \u001b[0mBill\u001b[0m\u001b[0;34m*\u001b[0m\u001b[0;34m(\u001b[0m\u001b[0mTip_percentage\u001b[0m\u001b[0;34m/\u001b[0m\u001b[0;36m100\u001b[0m\u001b[0;34m)\u001b[0m\u001b[0;34m\u001b[0m\u001b[0;34m\u001b[0m\u001b[0m\n\u001b[0m\u001b[1;32m      5\u001b[0m \u001b[0mPrint\u001b[0m\u001b[0;34m(\u001b[0m\u001b[0;34m\"Total Bill to be paid is:\"\u001b[0m\u001b[0;34m,\u001b[0m \u001b[0mBill_to_be_paid\u001b[0m\u001b[0;34m)\u001b[0m\u001b[0;34m\u001b[0m\u001b[0;34m\u001b[0m\u001b[0m\n",
      "\u001b[0;31mTypeError\u001b[0m: unsupported operand type(s) for /: 'str' and 'int'"
     ]
    }
   ],
   "source": [
    "print(\"Welcome to the Tip Calculator\")\n",
    "Bill = input(\"What is your bill amount\")\n",
    "Tip_percentage = input(\"What is your tip percentage\")\n",
    "Bill_to_be_paid = Bill + Bill*(Tip_percentage/100)\n",
    "Print(\"Total Bill to be paid is:\", Bill_to_be_paid)"
   ]
  },
  {
   "cell_type": "markdown",
   "id": "f0ffb349-2e7f-4452-8b53-8b1a5ad2492a",
   "metadata": {},
   "source": [
    "The error you're seeing is because the `input()` function in Python returns a string, and you're trying to perform mathematical operations with these strings. To fix this, you need to convert the inputs to the appropriate numerical types before performing the calculations. Here's how you can do it:\n"
   ]
  },
  {
   "cell_type": "code",
   "execution_count": 34,
   "id": "f2c08363-e6a2-41dd-809b-b7562fd48a57",
   "metadata": {},
   "outputs": [
    {
     "name": "stdin",
     "output_type": "stream",
     "text": [
      "What is your bill amount? $  150\n",
      "What is your tip percentage?  12\n",
      "How many people suppose to split the bill 5\n"
     ]
    },
    {
     "name": "stdout",
     "output_type": "stream",
     "text": [
      "Total Bill to be paid per person is: 33.6\n"
     ]
    }
   ],
   "source": [
    "Bill = float(input(\"What is your bill amount? $ \"))\n",
    "Tip_percentage = float(input(\"What is your tip percentage? \"))\n",
    "Bill_to_be_paid = Bill + Bill*(Tip_percentage/100)\n",
    "No_of_person = int(input(\"How many people suppose to split the bill\"))\n",
    "Total_Bill_to_be_Paid_per_Person = Bill_to_be_paid/No_of_person \n",
    "Final_Bill_per_person = round(Total_Bill_to_be_Paid_per_Person,2)\n",
    "print(\"Total Bill to be paid per person is:\", Total_Bill_to_be_Paid_per_Person)"
   ]
  },
  {
   "cell_type": "code",
   "execution_count": null,
   "id": "ef25737c-00bb-46fc-8535-f02be160a021",
   "metadata": {},
   "outputs": [],
   "source": []
  }
 ],
 "metadata": {
  "kernelspec": {
   "display_name": "Python 3 (ipykernel)",
   "language": "python",
   "name": "python3"
  },
  "language_info": {
   "codemirror_mode": {
    "name": "ipython",
    "version": 3
   },
   "file_extension": ".py",
   "mimetype": "text/x-python",
   "name": "python",
   "nbconvert_exporter": "python",
   "pygments_lexer": "ipython3",
   "version": "3.8.12"
  }
 },
 "nbformat": 4,
 "nbformat_minor": 5
}
